{
 "cells": [
  {
   "cell_type": "code",
   "execution_count": 2,
   "metadata": {
    "collapsed": true
   },
   "outputs": [],
   "source": [
    "import numpy as np"
   ]
  },
  {
   "cell_type": "code",
   "execution_count": 4,
   "metadata": {},
   "outputs": [
    {
     "data": {
      "text/plain": [
       "array([[0, 1],\n",
       "       [2, 3]])"
      ]
     },
     "execution_count": 4,
     "metadata": {},
     "output_type": "execute_result"
    }
   ],
   "source": [
    "def n_size_ndarray_creation(n, dtype=np.int):\n",
    "    return np.arange(n*n).reshape(n,n)\n",
    "\n",
    "a = n_size_ndarray_creation(2)\n",
    "a"
   ]
  },
  {
   "cell_type": "code",
   "execution_count": 20,
   "metadata": {},
   "outputs": [
    {
     "data": {
      "text/plain": [
       "array([[1, 1],\n",
       "       [1, 1]])"
      ]
     },
     "execution_count": 20,
     "metadata": {},
     "output_type": "execute_result"
    }
   ],
   "source": [
    "def zero_or_one_or_empty_ndarray(shape, type=0, dtype=np.int):\n",
    "    if type == 0:\n",
    "        return np.zeros(shape,dtype)\n",
    "    elif type == 1:\n",
    "        return np.ones(shape,dtype)\n",
    "    else:\n",
    "        return np.empty(shape,dtype)\n",
    "        \n",
    "zero_or_one_or_empty_ndarray(shape=(2,2), type=1)"
   ]
  },
  {
   "cell_type": "code",
   "execution_count": 34,
   "metadata": {},
   "outputs": [
    {
     "data": {
      "text/plain": [
       "array([1, 1, 1, ..., 1, 1, 1])"
      ]
     },
     "execution_count": 34,
     "metadata": {},
     "output_type": "execute_result"
    }
   ],
   "source": [
    "def change_shape_of_ndarray(X, n_row):\n",
    "    if n_row == 1:\n",
    "        return np.array(X).flatten()\n",
    "    else:\n",
    "        return np.array(X).reshape(n_row,-1)\n",
    "X = np.ones((32,32),dtype=np.int)\n",
    "\n",
    "change_shape_of_ndarray(X,1)"
   ]
  },
  {
   "cell_type": "code",
   "execution_count": 111,
   "metadata": {},
   "outputs": [
    {
     "data": {
      "text/plain": [
       "array([[1, 2],\n",
       "       [3, 4],\n",
       "       [5, 6]])"
      ]
     },
     "execution_count": 111,
     "metadata": {},
     "output_type": "execute_result"
    }
   ],
   "source": [
    "def concat_ndarray(X_1, X_2, axis):\n",
    "    if X_1.ndim == 1 :\n",
    "        X_1 = np.array(X_1).reshape(1,-1)\n",
    "    if X_2.ndim == 1 :\n",
    "        X_2 = np.array(X_2).reshape(1,-1)\n",
    "        \n",
    "    a = X_1.shape\n",
    "    b = X_2.shape\n",
    "        \n",
    "    if axis == 0:\n",
    "        if a[1] == b[1]:\n",
    "            return np.concatenate((X_1,X_2),axis)\n",
    "        else :\n",
    "            return False\n",
    "    elif axis == 1:\n",
    "        if a[0] == b[0]:\n",
    "            return np.concatenate((X_1,X_2),axis)\n",
    "        else :\n",
    "            return False      \n",
    "        \n",
    "a = np.array([[1, 2], [3, 4]])\n",
    "b = np.array([[5, 6]])\n",
    "concat_ndarray(a, b, 0)"
   ]
  },
  {
   "cell_type": "code",
   "execution_count": 112,
   "metadata": {},
   "outputs": [
    {
     "data": {
      "text/plain": [
       "False"
      ]
     },
     "execution_count": 112,
     "metadata": {},
     "output_type": "execute_result"
    }
   ],
   "source": [
    "concat_ndarray(a, b, 1)"
   ]
  },
  {
   "cell_type": "code",
   "execution_count": 113,
   "metadata": {},
   "outputs": [
    {
     "data": {
      "text/plain": [
       "array([[1, 2, 5, 6, 7]])"
      ]
     },
     "execution_count": 113,
     "metadata": {},
     "output_type": "execute_result"
    }
   ],
   "source": [
    "a = np.array([1, 2])\n",
    "b = np.array([5, 6, 7])\n",
    "concat_ndarray(a, b, 1)"
   ]
  },
  {
   "cell_type": "code",
   "execution_count": 114,
   "metadata": {},
   "outputs": [
    {
     "data": {
      "text/plain": [
       "False"
      ]
     },
     "execution_count": 114,
     "metadata": {},
     "output_type": "execute_result"
    }
   ],
   "source": [
    "concat_ndarray(a,b,0)"
   ]
  },
  {
   "cell_type": "code",
   "execution_count": 44,
   "metadata": {},
   "outputs": [
    {
     "data": {
      "text/plain": [
       "array([[-1.59325504, -1.3035723 ],\n",
       "       [-1.01388955, -0.72420681],\n",
       "       [-0.43452409, -0.14484136],\n",
       "       [ 0.14484136,  0.43452409],\n",
       "       [ 0.72420681,  1.01388955],\n",
       "       [ 1.3035723 ,  1.59325504]], dtype=float32)"
      ]
     },
     "execution_count": 44,
     "metadata": {},
     "output_type": "execute_result"
    }
   ],
   "source": [
    "def normalize_ndarray(X, axis=99, dtype=np.float32):\n",
    "    if axis == 99:\n",
    "        mean = X.mean()\n",
    "        std = X.std()\n",
    "        x = (X - mean)/std\n",
    "    else :\n",
    "        mean = X.mean(axis)\n",
    "        std = X.std(axis)\n",
    "        \n",
    "        if axis == 0:\n",
    "            x = (X - mean.T)/std.T\n",
    "        else:        \n",
    "            x = (X.T - mean)/std\n",
    "            x = x.T\n",
    "            \n",
    "    return x\n",
    "    \n",
    "X = np.arange(12,dtype=np.float32).reshape(6,2)\n",
    "normalize_ndarray(X)"
   ]
  },
  {
   "cell_type": "code",
   "execution_count": 47,
   "metadata": {
    "collapsed": true
   },
   "outputs": [],
   "source": [
    "def save_ndarray(X, filename=\"test.npy\"):\n",
    "    np.savetxt(filename,X,delimiter=\",\")\n",
    "\n",
    "X = np.arange(32,dtype=np.float32).reshape(4,-1)\n",
    "filename = 'test.npy'\n",
    "save_ndarray(X,filename)\n"
   ]
  },
  {
   "cell_type": "code",
   "execution_count": 53,
   "metadata": {},
   "outputs": [
    {
     "data": {
      "text/plain": [
       "(array([ 7,  8,  9, 10, 11, 12, 13, 14, 15, 16, 17, 18, 19, 20, 21, 22, 23,\n",
       "        24, 25, 26, 27, 28, 29, 30, 31]),)"
      ]
     },
     "execution_count": 53,
     "metadata": {},
     "output_type": "execute_result"
    }
   ],
   "source": [
    "def boolean_index(X, condition):\n",
    "    \n",
    "    a = np.where(eval(str(\"X\")+condition))\n",
    "    return a\n",
    "X = np.arange(32,dtype=np.float32)\n",
    "boolean_index(X,\">6\")\n"
   ]
  },
  {
   "cell_type": "code",
   "execution_count": 83,
   "metadata": {},
   "outputs": [
    {
     "data": {
      "text/plain": [
       "0.29746497281134987"
      ]
     },
     "execution_count": 83,
     "metadata": {},
     "output_type": "execute_result"
    }
   ],
   "source": [
    "def find_nearest_value(X, target_value):\n",
    "    a = X-target_value\n",
    "    a = np.abs(a)\n",
    "    result = np.argmin(a)\n",
    "    return X[result]\n",
    "\n",
    "X = np.random.uniform(0,1,100)\n",
    "find_nearest_value(X,0.3)"
   ]
  },
  {
   "cell_type": "code",
   "execution_count": 46,
   "metadata": {},
   "outputs": [
    {
     "data": {
      "text/plain": [
       "array([ 0.98337179,  0.9700883 ,  0.96341294,  0.95321649,  0.94682568])"
      ]
     },
     "execution_count": 46,
     "metadata": {},
     "output_type": "execute_result"
    }
   ],
   "source": [
    "def get_n_largest_values(X, n):\n",
    "    result = np.arange(n, dtype = np.float32)\n",
    "    index = np.arange(n,dtype = int)\n",
    "    for i in range(n):\n",
    "        a = np.argmax(X)\n",
    "        result[i] = X[a]\n",
    "        index[i] = a\n",
    "        X[a] = 0\n",
    "    for i in range(n):\n",
    "        X[index[i]] = result[i]\n",
    "    return X[index]\n",
    "\n",
    "X = np.random.uniform(0,1,100)\n",
    "get_n_largest_values(X,5)"
   ]
  },
  {
   "cell_type": "code",
   "execution_count": null,
   "metadata": {
    "collapsed": true
   },
   "outputs": [],
   "source": []
  }
 ],
 "metadata": {
  "kernelspec": {
   "display_name": "Python 3",
   "language": "python",
   "name": "python3"
  },
  "language_info": {
   "codemirror_mode": {
    "name": "ipython",
    "version": 3
   },
   "file_extension": ".py",
   "mimetype": "text/x-python",
   "name": "python",
   "nbconvert_exporter": "python",
   "pygments_lexer": "ipython3",
   "version": "3.6.3"
  }
 },
 "nbformat": 4,
 "nbformat_minor": 2
}
